{
 "cells": [
  {
   "cell_type": "code",
   "execution_count": 1,
   "id": "0e4f8a27-6369-452f-a43f-96bcac49ba82",
   "metadata": {},
   "outputs": [],
   "source": [
    "import os\n",
    "import pandas as pd"
   ]
  },
  {
   "cell_type": "code",
   "execution_count": 2,
   "id": "8715e10b-4bd7-4fd9-8aa7-4bea9f788f31",
   "metadata": {},
   "outputs": [],
   "source": [
    "# Rutas\n",
    "ROOT_PATH = 'C:/Users/pedro/ds-geo'\n",
    "CONFIG_PATH = ROOT_PATH + '/config'\n",
    "DATA_PATH = ROOT_PATH + '/data'"
   ]
  },
  {
   "cell_type": "code",
   "execution_count": 3,
   "id": "002dc3ad-757f-446c-9352-e98a98cfa38f",
   "metadata": {},
   "outputs": [],
   "source": [
    "# Carga puntos de elementos destacados\n",
    "\n",
    "def LoadPointsExcel(layer):\n",
    "    \n",
    "    # Leemos el fichero de puntos\n",
    "    df_points = pd.read_excel (DATA_PATH + '/layer-' + layer + '/points.xls', sheet_name='points')\n",
    "    df_points['CodigoCultivo'].fillna('', inplace=True)\n",
    "    df_points['CodigoPropietario'].fillna('', inplace=True)\n",
    "\n",
    "    # Cargamos los ficheros de configuración\n",
    "    df_c = pd.read_csv(CONFIG_PATH + '/cultivos.cfg', sep=',', encoding='UTF-8', na_filter= False)\n",
    "    df_p = pd.read_csv(CONFIG_PATH + '/propietarios.cfg', sep=',', encoding='UTF-8', na_filter= False)\n",
    "\n",
    "    # Completamos la información de los puntos\n",
    "    df_points = pd.merge(df_points, df_c, on=['CodigoCultivo'], how='left')\n",
    "    df_points = pd.merge(df_points, df_p, on=['CodigoPropietario'], how='left')\n",
    "    df_points['Origen'] = 'layer-' + layer\n",
    "    \n",
    "    # Y adaptamos el dataset al formato requerido\n",
    "    df_points.fillna('', inplace=True)\n",
    "    df_points.drop(['CodigoCultivo', 'CodigoPropietario'], axis=1, inplace=True)\n",
    "    df_points.rename(columns={'Latitud':'Latitude', 'Longitud':'Longitude'}, inplace=True)\n",
    "\n",
    "    return df_points\n"
   ]
  },
  {
   "cell_type": "code",
   "execution_count": 4,
   "id": "22eb279b-78eb-41f1-96f3-73f613215426",
   "metadata": {},
   "outputs": [],
   "source": [
    "# Función que guarda el dataset para ser visualizado en Google Maps\n",
    "\n",
    "def SaveDataset(layer, df):\n",
    "\n",
    "    s_file = 'dataset-points.pkl'\n",
    "    s_path = DATA_PATH + '/layer-' + layer\n",
    "    df.to_pickle(s_path + '/' + s_file)\n",
    "    "
   ]
  },
  {
   "cell_type": "code",
   "execution_count": 5,
   "id": "b7f948d9-5378-452a-89f5-cdce0ca5262a",
   "metadata": {},
   "outputs": [],
   "source": [
    "# Función que fusiona la información del Catastro con la propia de la empresa \n",
    "# para generar el dataset que se visualizará postariormente\n",
    "\n",
    "def GenerateDatasetPoints(layer):  \n",
    "    s_path = DATA_PATH + '/layer-' + layer\n",
    "    \n",
    "    if (os.path.isdir(s_path)) & (os.path.isfile(s_path + '/points.xls')):\n",
    "        # Cargamos los points desde la Excel\n",
    "        df = LoadPointsExcel(layer)\n",
    "\n",
    "        # Volcamos a disco el dataset\n",
    "        SaveDataset(layer, df)\n",
    "        "
   ]
  },
  {
   "cell_type": "code",
   "execution_count": 6,
   "id": "cbbb02d0-477c-4885-b784-d00d4a0ecf72",
   "metadata": {},
   "outputs": [],
   "source": [
    "# Función que genera los datasets individuales de puntos de interés de todas las capas\n",
    "\n",
    "def GenerateAllDatasetsPoints():\n",
    "    for root, dirs, files in os.walk(DATA_PATH, topdown=False):\n",
    "        for file_name in files:\n",
    "            s_folder = os.path.basename(root)\n",
    "            if (file_name == 'points.xls') & (s_folder.split('-')[0] == 'layer'):\n",
    "                if s_folder.split('-')[1] is not None:\n",
    "                    GenerateDatasetPoints(s_folder.split('-')[1])\n",
    "                    "
   ]
  },
  {
   "cell_type": "markdown",
   "id": "b07f5868-6786-4926-a9a5-e3782cecfb51",
   "metadata": {},
   "source": [
    "## Ejecución"
   ]
  },
  {
   "cell_type": "code",
   "execution_count": 7,
   "id": "3b96defe-5a3e-42e7-9dca-03e76f18ffdf",
   "metadata": {},
   "outputs": [],
   "source": [
    "# Generación de todos los datasets de Markers\n",
    "GenerateAllDatasetsPoints()\n",
    "\n",
    "# Generación de un dataset de markers\n",
    "#GenerateDatasetPuntos(layer='caza')\n"
   ]
  },
  {
   "cell_type": "code",
   "execution_count": null,
   "id": "e0841d99-c26a-4a63-8f5b-7e16cadd0ee7",
   "metadata": {},
   "outputs": [],
   "source": []
  }
 ],
 "metadata": {
  "kernelspec": {
   "display_name": "Python 3 (ipykernel)",
   "language": "python",
   "name": "python3"
  },
  "language_info": {
   "codemirror_mode": {
    "name": "ipython",
    "version": 3
   },
   "file_extension": ".py",
   "mimetype": "text/x-python",
   "name": "python",
   "nbconvert_exporter": "python",
   "pygments_lexer": "ipython3",
   "version": "3.9.0"
  }
 },
 "nbformat": 4,
 "nbformat_minor": 5
}
