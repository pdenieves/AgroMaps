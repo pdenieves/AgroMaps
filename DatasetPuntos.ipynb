{
 "cells": [
  {
   "cell_type": "code",
   "execution_count": 1,
   "id": "0e4f8a27-6369-452f-a43f-96bcac49ba82",
   "metadata": {},
   "outputs": [],
   "source": [
    "import os\n",
    "import numpy as np\n",
    "import pandas as pd\n"
   ]
  },
  {
   "cell_type": "code",
   "execution_count": 2,
   "id": "8715e10b-4bd7-4fd9-8aa7-4bea9f788f31",
   "metadata": {},
   "outputs": [],
   "source": [
    "# Rutas\n",
    "ROOT_PATH = 'C:/Users/pedro/ds-geo'\n",
    "CONFIG_PATH = ROOT_PATH + '/config'\n",
    "DATA_PATH = ROOT_PATH + '/data'\n",
    "PARCELAS_PATH = ROOT_PATH + '/data/parcelas'\n",
    "\n",
    "DATASET_PUNTOS = 'dataset_puntos.pkl'\n",
    "\n",
    "os.chdir(ROOT_PATH)"
   ]
  },
  {
   "cell_type": "code",
   "execution_count": 3,
   "id": "002dc3ad-757f-446c-9352-e98a98cfa38f",
   "metadata": {},
   "outputs": [],
   "source": [
    "# Carga puntos de elementos destacados\n",
    "\n",
    "def LoadPoints():\n",
    "    \n",
    "    df_temp = pd.read_csv(PARCELAS_PATH + '/points.csv', sep=',', encoding='UTF-8')\n",
    "    df_info = pd.read_csv(CONFIG_PATH + '/cultivos.cfg', sep=',', encoding='UTF-8')\n",
    "    df_points = pd.merge(df_temp, df_info[['CodigoCultivo', 'NombreCultivo', 'ColorCultivo']], left_on=['Tipo'],  right_on=['CodigoCultivo'], how='left')\n",
    "    df_points.fillna('', inplace=True)\n",
    "    df_points.drop('CodigoCultivo', axis=1, inplace=True)\n",
    "    df_points.rename(columns={'Latitud':'Latitude', 'Longitud':'Longitude'}, inplace=True)\n",
    "    \n",
    "    return df_points"
   ]
  },
  {
   "cell_type": "code",
   "execution_count": 4,
   "id": "22eb279b-78eb-41f1-96f3-73f613215426",
   "metadata": {},
   "outputs": [],
   "source": [
    "# Función que guarda el dataset para ser visualizado en Google Maps\n",
    "\n",
    "def SaveDataset(df):\n",
    "    df.to_pickle(DATA_PATH + '/' + DATASET_PUNTOS)\n",
    " "
   ]
  },
  {
   "cell_type": "code",
   "execution_count": 5,
   "id": "b7f948d9-5378-452a-89f5-cdce0ca5262a",
   "metadata": {},
   "outputs": [],
   "source": [
    "# Función que fusiona la información del Catastro con la propia de la empresa \n",
    "# para generar el dataset que se visualizará postariormente\n",
    "\n",
    "def GenerateDatasetPuntos():\n",
    "    # Cargamos los puntos de interés\n",
    "    df_puntos = LoadPoints()\n",
    "\n",
    "    # Volcamos a disco el dataset\n",
    "    SaveDataset(df_puntos)\n"
   ]
  },
  {
   "cell_type": "markdown",
   "id": "b07f5868-6786-4926-a9a5-e3782cecfb51",
   "metadata": {},
   "source": [
    "## Ejecución"
   ]
  },
  {
   "cell_type": "code",
   "execution_count": 6,
   "id": "3b96defe-5a3e-42e7-9dca-03e76f18ffdf",
   "metadata": {},
   "outputs": [],
   "source": [
    "# Generación del dataset de puntos\n",
    "GenerateDatasetPuntos()"
   ]
  },
  {
   "cell_type": "code",
   "execution_count": null,
   "id": "e0841d99-c26a-4a63-8f5b-7e16cadd0ee7",
   "metadata": {},
   "outputs": [],
   "source": []
  }
 ],
 "metadata": {
  "kernelspec": {
   "display_name": "Python 3 (ipykernel)",
   "language": "python",
   "name": "python3"
  },
  "language_info": {
   "codemirror_mode": {
    "name": "ipython",
    "version": 3
   },
   "file_extension": ".py",
   "mimetype": "text/x-python",
   "name": "python",
   "nbconvert_exporter": "python",
   "pygments_lexer": "ipython3",
   "version": "3.9.0"
  }
 },
 "nbformat": 4,
 "nbformat_minor": 5
}
