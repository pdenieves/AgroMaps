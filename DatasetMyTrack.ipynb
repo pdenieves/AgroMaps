{
 "cells": [
  {
   "cell_type": "code",
   "execution_count": 1,
   "id": "0e4f8a27-6369-452f-a43f-96bcac49ba82",
   "metadata": {},
   "outputs": [],
   "source": [
    "import os\n",
    "import numpy as np\n",
    "import pandas as pd\n",
    "import csv"
   ]
  },
  {
   "cell_type": "code",
   "execution_count": 2,
   "id": "8715e10b-4bd7-4fd9-8aa7-4bea9f788f31",
   "metadata": {},
   "outputs": [],
   "source": [
    "# Rutas\n",
    "ROOT_PATH = 'C:/Users/pedro/ds-geo'\n",
    "CONFIG_PATH = ROOT_PATH + '/config'\n",
    "DATA_PATH = ROOT_PATH + '/data'\n",
    "MYTRACK_PATH = ROOT_PATH + '/data/mytrack'\n",
    "\n",
    "DATASET_MYTRACK_P = 'dataset_mytrack_points.pkl'\n",
    "DATASET_MYTRACK_M = 'dataset_mytrack_markers.pkl'\n",
    "\n",
    "os.chdir(ROOT_PATH)"
   ]
  },
  {
   "cell_type": "code",
   "execution_count": 3,
   "id": "34537c96-4c84-45e2-b2b0-0a059c1cb4cb",
   "metadata": {},
   "outputs": [],
   "source": [
    "# Carga del fichero de la aplicación MyTrack\n",
    "\n",
    "def LoadMytrackCSV(s_file):\n",
    "    \n",
    "    l_lines = []\n",
    "    s_pathfile = MYTRACK_PATH + '/' + s_file\n",
    "    \n",
    "    with open(s_pathfile,'r') as f:\n",
    "        x = csv.reader(f)\n",
    "        new = list(x)\n",
    "        for i, line in enumerate(new):\n",
    "            if (len(line) == 0):\n",
    "                l_lines.append(i + 1)\n",
    "        l_lines.append(len(new))\n",
    "        f.close()\n",
    "        \n",
    "        if len(l_lines) >= 3:\n",
    "            # El formato del fichero es correcto. Lo podemos cargar.\n",
    "            df_points = pd.read_csv(s_pathfile, sep=',', skiprows=l_lines[1], encoding='UTF-8', engine='python')\n",
    "            df_markers = pd.read_csv(s_pathfile, sep=',', skiprows=l_lines[0], skipfooter=l_lines[2] - l_lines[1], encoding='UTF-8', engine='python')\n",
    "            df_markers.rename({'Name': 'Etiqueta'}, axis=1, inplace=True)\n",
    "    \n",
    "    return (df_points, df_markers)\n"
   ]
  },
  {
   "cell_type": "code",
   "execution_count": 4,
   "id": "b93b62ee-0774-438b-b017-401db63487ee",
   "metadata": {},
   "outputs": [],
   "source": [
    "def LoadMyTrack():\n",
    "    \n",
    "    # Obtengo los ficheros de MyTrack a cargar\n",
    "    files_list = []\n",
    "    for file in os.listdir(MYTRACK_PATH):\n",
    "        if file.endswith(\".csv\"):\n",
    "            files_list.append(file)\n",
    "\n",
    "    df_points = pd.DataFrame(columns=['Location', 'Time', 'Latitude', 'Longitude', 'Altitude', 'Accuracy(m)', 'Speed(m/s)', 'Bearing', 'CodigoCultivo'])\n",
    "    df_markers = pd.DataFrame(columns=['Marker', 'Time', 'Latitude', 'Longitude', 'Etiqueta', 'CodigoCultivo'])\n",
    "    \n",
    "    # Leo la información de los ficheros de MyTrack y la añado al dataframe\n",
    "    for file in files_list:\n",
    "        df_new_p, df_new_m = LoadMytrackCSV(file)\n",
    "        \n",
    "        s_tipo = file.split('-', 1)[0].upper()\n",
    "        df_new_p['CodigoCultivo'] = s_tipo\n",
    "        df_new_m['CodigoCultivo'] = s_tipo\n",
    "\n",
    "        df_points = pd.concat([df_points, df_new_p], axis=0, ignore_index=True)\n",
    "        df_markers = pd.concat([df_markers, df_new_m], axis=0, ignore_index=True)\n",
    "    \n",
    "    # Leo el fichero de configuración y completo los datos de MyTrack\n",
    "    df_info = pd.read_csv(CONFIG_PATH + '/cultivos.cfg', sep=',', encoding='UTF-8', na_filter= False)\n",
    "    \n",
    "    df_points = pd.merge(df_points, df_info, on=['CodigoCultivo'], how='left')\n",
    "    df_points.fillna('', inplace=True)\n",
    "    df_points.drop(['CodigoCultivo'], axis=1, inplace=True)\n",
    "\n",
    "    df_markers = pd.merge(df_markers, df_info, on=['CodigoCultivo'], how='left')\n",
    "    df_markers.fillna('', inplace=True)\n",
    "    df_markers.drop(['CodigoCultivo'], axis=1, inplace=True)\n",
    "    \n",
    "    return (df_points, df_markers)\n"
   ]
  },
  {
   "cell_type": "code",
   "execution_count": 5,
   "id": "22eb279b-78eb-41f1-96f3-73f613215426",
   "metadata": {},
   "outputs": [],
   "source": [
    "# Función que guarda un dataset\n",
    "\n",
    "def SaveDataset(df, name='dataset.pkl'):\n",
    "    df.to_pickle(DATA_PATH + '/' + name)\n",
    " "
   ]
  },
  {
   "cell_type": "code",
   "execution_count": 6,
   "id": "55564149-6f85-40e0-b8f8-d9f582d06ba4",
   "metadata": {},
   "outputs": [],
   "source": [
    "# Función que fusiona la información del Catastro con la propia de la empresa \n",
    "# para generar el dataset que se visualizará postariormente\n",
    "\n",
    "def GenerateDatasetMyTrack():\n",
    "    # Cargamos los puntos de interés\n",
    "    df_mytrack_points, df_mytrack_markers = LoadMyTrack()\n",
    "\n",
    "    # Volcamos a disco los datasets\n",
    "    SaveDataset(df_mytrack_points, DATASET_MYTRACK_P)\n",
    "    SaveDataset(df_mytrack_markers, DATASET_MYTRACK_M)\n"
   ]
  },
  {
   "cell_type": "code",
   "execution_count": 7,
   "id": "5a9086aa-d1b1-475c-b1cd-3175a69cc256",
   "metadata": {},
   "outputs": [],
   "source": [
    "# Función que carga el dataset de los markers\n",
    "\n",
    "def LoadDatasetMyTrack():\n",
    "    df_points = pd.read_pickle(DATA_PATH + '/' + DATASET_MYTRACK_P)\n",
    "    df_markers = pd.read_pickle(DATA_PATH + '/' + DATASET_MYTRACK_M)\n",
    "    return (df_points, df_markers)\n"
   ]
  },
  {
   "cell_type": "markdown",
   "id": "b07f5868-6786-4926-a9a5-e3782cecfb51",
   "metadata": {},
   "source": [
    "## Ejecución"
   ]
  },
  {
   "cell_type": "code",
   "execution_count": 8,
   "id": "3b96defe-5a3e-42e7-9dca-03e76f18ffdf",
   "metadata": {},
   "outputs": [],
   "source": [
    "# Generación del dataset de puntos\n",
    "GenerateDatasetMyTrack()"
   ]
  },
  {
   "cell_type": "code",
   "execution_count": null,
   "id": "e0841d99-c26a-4a63-8f5b-7e16cadd0ee7",
   "metadata": {},
   "outputs": [],
   "source": []
  }
 ],
 "metadata": {
  "kernelspec": {
   "display_name": "Python 3 (ipykernel)",
   "language": "python",
   "name": "python3"
  },
  "language_info": {
   "codemirror_mode": {
    "name": "ipython",
    "version": 3
   },
   "file_extension": ".py",
   "mimetype": "text/x-python",
   "name": "python",
   "nbconvert_exporter": "python",
   "pygments_lexer": "ipython3",
   "version": "3.9.0"
  }
 },
 "nbformat": 4,
 "nbformat_minor": 5
}
