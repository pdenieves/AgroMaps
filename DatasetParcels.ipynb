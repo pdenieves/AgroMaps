{
 "cells": [
  {
   "cell_type": "code",
   "execution_count": 1,
   "id": "9c33dbc5-3751-42e0-a9ac-e3077f9f9866",
   "metadata": {},
   "outputs": [],
   "source": [
    "# Notebook para generar el dataset de parcelas"
   ]
  },
  {
   "cell_type": "code",
   "execution_count": 2,
   "id": "988676c5-740b-4a41-9c58-5a1c4e34122d",
   "metadata": {},
   "outputs": [],
   "source": [
    "import os\n",
    "import pandas as pd\n",
    "\n",
    "import geopandas as gpd\n",
    "from fiona.drvsupport import supported_drivers\n",
    "supported_drivers['KML'] = 'rw'"
   ]
  },
  {
   "cell_type": "code",
   "execution_count": 3,
   "id": "2effbc50-62fa-4c39-8a5d-0a03efc88a16",
   "metadata": {},
   "outputs": [],
   "source": [
    "# Rutas\n",
    "ROOT_PATH = 'C:/Users/pedro/ds-geo'\n",
    "CONFIG_PATH = ROOT_PATH + '/config'\n",
    "DATA_PATH = ROOT_PATH + '/data'"
   ]
  },
  {
   "cell_type": "code",
   "execution_count": 4,
   "id": "0b7eaeef-a64f-4ec4-9643-490e45cf2797",
   "metadata": {},
   "outputs": [],
   "source": [
    "# Carga de todos los ficheros del catastro, en formato KML.\n",
    "\n",
    "def LoadCatastroKML(s_file, s_path):\n",
    "    file_polygons = gpd.read_file(s_path + '/' + s_file + '.kml', driver='KML')\n",
    "    df_parc = pd.DataFrame(columns=['CatReferencia', 'CatRecinto', 'Latitude', 'Longitude'])\n",
    "    \n",
    "    for index, row in file_polygons.iterrows():\n",
    "        l_lat = []\n",
    "        l_long = []\n",
    "        if len(row['Name']) > 0:\n",
    "            s_sub = str(row['Name'])\n",
    "        else:\n",
    "            s_sub = 'z'\n",
    "        \n",
    "        for point in list(row['geometry'].exterior.coords): \n",
    "            l_lat.append(point[1])\n",
    "            l_long.append(point[0])\n",
    "\n",
    "        row_new = {'CatReferencia': s_file, 'CatRecinto': s_sub, 'Latitude': l_lat, 'Longitude': l_long}\n",
    "        df_new = pd.DataFrame([row_new])\n",
    "\n",
    "        df_parc = pd.concat([df_parc, df_new], axis=0, ignore_index=True)\n",
    "        \n",
    "        df_parc.fillna('', inplace=True)\n",
    "        df_parc.loc[df_parc['CatRecinto'] == '0', 'CatRecinto'] = '-'\n",
    "\n",
    "    return df_parc\n"
   ]
  },
  {
   "cell_type": "code",
   "execution_count": 5,
   "id": "320c39fc-de4b-4c5a-b060-37107d2c9559",
   "metadata": {},
   "outputs": [],
   "source": [
    "# Función para cargar todos los ficheros de parcelas del Catastro (desde una carpeta)\n",
    "\n",
    "def LoadCatastro(layer):\n",
    "    \n",
    "    # Obtengo los ficheros KML a cargar\n",
    "    files_list = []\n",
    "    s_path = DATA_PATH + '/layer-' + layer + '/KML'\n",
    "    for file in os.listdir(s_path):\n",
    "        if file.endswith(\".kml\"):\n",
    "            files_list.append(file.replace('.kml', ''))\n",
    "\n",
    "    df_parcels = pd.DataFrame(columns=['CatReferencia', 'CatRecinto', 'Latitude', 'Longitude'])\n",
    "\n",
    "    # Leo la información del fichero KML y la añado al dataframe\n",
    "    for file in files_list:\n",
    "        df_new = LoadCatastroKML(file, s_path)\n",
    "        df_parcels = pd.concat([df_parcels, df_new], axis=0, ignore_index=True)\n",
    "\n",
    "    return df_parcels\n"
   ]
  },
  {
   "cell_type": "code",
   "execution_count": 6,
   "id": "29144315-853d-40c6-99d9-5cdfaa834d86",
   "metadata": {},
   "outputs": [],
   "source": [
    "# Carga información de las parcelas\n",
    "\n",
    "def LoadParcelsExcel(layer):\n",
    "    \n",
    "    # Leemos el fichero de parcelas\n",
    "    df_info = pd.read_excel (DATA_PATH + '/layer-' + layer + '/parcels.xls', sheet_name='parcels')\n",
    "    df_info['CodigoCultivo'].fillna('', inplace=True)\n",
    "    df_info['CodigoPropietario'].fillna('', inplace=True)\n",
    "    df_info.loc[df_info['CatRecinto'] == 0, 'CatRecinto'] = '-'\n",
    "\n",
    "    # Cargamos los ficheros de configuración\n",
    "    df_c = pd.read_csv(CONFIG_PATH + '/cultivos.cfg', sep=',', encoding='UTF-8', na_filter= False)\n",
    "    df_p = pd.read_csv(CONFIG_PATH + '/propietarios.cfg', sep=',', encoding='UTF-8', na_filter= False)\n",
    "\n",
    "    # Completamos la información de las parcelas\n",
    "    df_info = pd.merge(df_info, df_c, on=['CodigoCultivo'], how='left')\n",
    "    df_info = pd.merge(df_info, df_p, on=['CodigoPropietario'], how='left')\n",
    "    df_info['Origen'] = 'layer-' + layer\n",
    "   \n",
    "    # Y adaptamos el dataset al formato requerido\n",
    "    df_info.fillna('', inplace=True)\n",
    "    df_info.drop(['CodigoCultivo', 'CodigoPropietario'], axis=1, inplace=True)\n",
    "\n",
    "    return df_info\n"
   ]
  },
  {
   "cell_type": "code",
   "execution_count": 7,
   "id": "ffe75285-91c3-4c73-bbf8-582205df5170",
   "metadata": {},
   "outputs": [],
   "source": [
    "# Función que guarda el dataset de las parcelas para ser visualizado en Google Maps\n",
    "\n",
    "def SaveDataset(layer, df):\n",
    "\n",
    "    s_file = 'dataset-parcels.pkl'\n",
    "    s_path = DATA_PATH + '/layer-' + layer\n",
    "    df.to_pickle(s_path + '/' + s_file)\n",
    "    "
   ]
  },
  {
   "cell_type": "code",
   "execution_count": 8,
   "id": "6f50c80b-4431-4208-9cb2-6804ab8c7ba2",
   "metadata": {},
   "outputs": [],
   "source": [
    "# Función que fusiona la información del Catastro con la propia de la empresa \n",
    "# para generar el dataset que se visualizará postariormente\n",
    "\n",
    "def GenerateDatasetParcels(layer):\n",
    "    s_path = DATA_PATH + '/layer-' + layer\n",
    "    \n",
    "    if (os.path.isdir(s_path)) & (os.path.isfile(s_path + '/parcels.xls')):\n",
    "        # Cargamos las parcelas del Catastro\n",
    "        df_parcelas = LoadCatastro(layer)\n",
    "\n",
    "        # Cargamos la información complementaria de las parcelas\n",
    "        df_infoParcelas = LoadParcelsExcel(layer)   \n",
    "\n",
    "        # Completamos la información de las parcelas\n",
    "        df_compl = pd.merge(df_parcelas, df_infoParcelas, on=['CatReferencia', 'CatRecinto'], how='left')\n",
    "        df_compl.fillna('', inplace=True)\n",
    "\n",
    "        # Volcamos a disco el dataset\n",
    "        SaveDataset(layer, df_compl)\n",
    "        "
   ]
  },
  {
   "cell_type": "code",
   "execution_count": 9,
   "id": "1e6f969a-4864-4a81-8c6f-45c9867079b5",
   "metadata": {},
   "outputs": [],
   "source": [
    "# Función que genera los datasets individuales de las parcelas de todas las capas\n",
    "\n",
    "def GenerateAllDatasetsParcels():\n",
    "    for root, dirs, files in os.walk(DATA_PATH, topdown=False):\n",
    "        for file_name in files:\n",
    "            s_folder = os.path.basename(root)\n",
    "            if (file_name == 'parcels.xls') & (s_folder.split('-')[0] == 'layer'):\n",
    "                if s_folder.split('-')[1] is not None:\n",
    "                    GenerateDatasetParcels(s_folder.split('-')[1])\n",
    " "
   ]
  },
  {
   "cell_type": "markdown",
   "id": "ad2475ef-7e43-4816-b39f-9142a04e198a",
   "metadata": {},
   "source": [
    "## Ejecución"
   ]
  },
  {
   "cell_type": "code",
   "execution_count": 10,
   "id": "c6296e49-9b66-46b8-b350-d5d1e8882b4e",
   "metadata": {},
   "outputs": [],
   "source": [
    "# Generación de todos los datasets de parcelas\n",
    "GenerateAllDatasetsParcels()\n",
    "\n",
    "# Generación de un dataset de parcelas\n",
    "#GenerateDatasetParcels(layer='parcelas')"
   ]
  },
  {
   "cell_type": "code",
   "execution_count": null,
   "id": "ea3139c3-6e1d-4285-a7ff-67b19dd45f06",
   "metadata": {},
   "outputs": [],
   "source": []
  }
 ],
 "metadata": {
  "kernelspec": {
   "display_name": "Python 3 (ipykernel)",
   "language": "python",
   "name": "python3"
  },
  "language_info": {
   "codemirror_mode": {
    "name": "ipython",
    "version": 3
   },
   "file_extension": ".py",
   "mimetype": "text/x-python",
   "name": "python",
   "nbconvert_exporter": "python",
   "pygments_lexer": "ipython3",
   "version": "3.9.0"
  }
 },
 "nbformat": 4,
 "nbformat_minor": 5
}
