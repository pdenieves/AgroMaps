{
 "cells": [
  {
   "cell_type": "raw",
   "id": "03e4179e-57a1-401a-a7b6-7fcf60f05e16",
   "metadata": {},
   "source": [
    "!pip install --force-reinstall C:\\_Git\\agroplot"
   ]
  },
  {
   "cell_type": "code",
   "execution_count": 13,
   "id": "debbaefa",
   "metadata": {},
   "outputs": [],
   "source": [
    "import os\n",
    "import numpy as np\n",
    "import pandas as pd\n",
    "from random import random\n",
    "\n",
    "from agroplot import GoogleMapPlotter\n",
    "\n",
    "import webbrowser\n"
   ]
  },
  {
   "cell_type": "code",
   "execution_count": 2,
   "id": "28c5af69",
   "metadata": {},
   "outputs": [],
   "source": [
    "# Rutas\n",
    "ROOT_PATH = 'C:/Users/pedro/ds-geo'\n",
    "CONFIG_PATH = ROOT_PATH + '/config'\n",
    "MAPS_PATH = ROOT_PATH + '/maps'\n",
    "DATA_PATH = ROOT_PATH + '/data'\n",
    "\n",
    "os.chdir(ROOT_PATH)\n"
   ]
  },
  {
   "cell_type": "markdown",
   "id": "bf453d3a",
   "metadata": {},
   "source": [
    "# GoogleMaps"
   ]
  },
  {
   "cell_type": "code",
   "execution_count": 3,
   "id": "e574462f",
   "metadata": {},
   "outputs": [],
   "source": [
    "class CustomGoogleMapPlotter(GoogleMapPlotter):\n",
    "    \n",
    "    # __init__\n",
    "    def __init__(self, center_lat, center_lng, zoom, apikey='',\n",
    "                 map_type='satellite'):\n",
    "        if apikey == '':\n",
    "            try:\n",
    "                with open(CONFIG_PATH + '/apikey.txt', 'r') as apifile:\n",
    "                    apikey = apifile.readline()\n",
    "            except FileNotFoundError:\n",
    "                pass\n",
    "        super().__init__(center_lat, center_lng, zoom, apikey=apikey)\n",
    "\n",
    "        self.map_type = map_type\n",
    "        assert(self.map_type in ['roadmap', 'satellite', 'hybrid', 'terrain'])\n",
    "        \n",
    "\n",
    "    # write_map\n",
    "    def write_map(self,  f):\n",
    "        f.write('\\t\\tvar centerlatlng = new google.maps.LatLng(%f, %f);\\n' %\n",
    "                (self.center[0], self.center[1]))\n",
    "        f.write('\\t\\tvar myOptions = {\\n')\n",
    "        f.write('\\t\\t\\tzoom: %d,\\n' % (self.zoom))\n",
    "        f.write('\\t\\t\\tcenter: centerlatlng,\\n')\n",
    "\n",
    "        # Change this line to allow different map types\n",
    "        f.write('\\t\\t\\tmapTypeId: \\'{}\\'\\n'.format(self.map_type))\n",
    "        f.write('\\t\\t};\\n')\n",
    "        f.write('\\t\\tvar map = new google.maps.Map(document.getElementById(\"map_canvas\"), myOptions);\\n')\n",
    "        f.write('\\n')\n",
    "\n",
    "\n",
    "    # Añade polígonos y parcelas al mapa\n",
    "    def AddMapPolygons(self, df, mode=None):\n",
    "\n",
    "        for index, row in df.iterrows():\n",
    "            l_lat = row['Latitude']\n",
    "            l_long = row['Longitude']\n",
    "\n",
    "            if mode == 'c':\n",
    "                s_color = row['ColorCultivo']\n",
    "                if s_color == '':\n",
    "                    s_color = 'white'\n",
    "            elif mode == 'p':\n",
    "                s_color = row['ColorPropietario']\n",
    "                if s_color == '':\n",
    "                    s_color = 'white'\n",
    "            else:\n",
    "                s_color = 'cornflowerblue'\n",
    "            \n",
    "            dict_info = {}\n",
    "            dict_info.update({'descripcion': row['NombreParcela']})\n",
    "            dict_info.update({'tipo': row['NombreCultivo']})\n",
    "            dict_info.update({'tipo_color': row['ColorCultivo']})\n",
    "            dict_info.update({'variedad': row['VariedadCultivo']})\n",
    "            dict_info.update({'municipio': row['CatMunicipio']})\n",
    "            dict_info.update({'poligono': str(row['CatPoligono'])})\n",
    "            dict_info.update({'parcela': str(row['CatParcela'])})\n",
    "            dict_info.update({'recinto': str(row['CatRecinto'])})\n",
    "            dict_info.update({'propietario': row['NombrePropietario']})\n",
    "            dict_info.update({'propietario_color': row['ColorPropietario']})\n",
    "           \n",
    "\n",
    "            self.polygon(l_lat, l_long, info=dict_info, color=s_color, face_alpha=0.5) \n",
    "\n",
    "        \n",
    "        \n",
    "    # Añade puntos al mapa\n",
    "    def AddMapPoints(self, df, mode=None):\n",
    "\n",
    "        for index, row in df.iterrows():\n",
    "            l_lat = row['Latitude']\n",
    "            l_long = row['Longitude']\n",
    "\n",
    "            if mode == 'c':\n",
    "                s_color = row['ColorCultivo']\n",
    "                if s_color == '':\n",
    "                    s_color = 'white'\n",
    "            elif mode == 'p':\n",
    "                s_color = 'white'\n",
    "            else:\n",
    "                s_color = 'cornflowerblue'\n",
    "            \n",
    "            dict_info = {}\n",
    "            dict_info.update({'descripcion': row['Etiqueta']})\n",
    "            dict_info.update({'tipo': row['NombreCultivo']})\n",
    "            dict_info.update({'tipo_color': row['ColorCultivo']})\n",
    "\n",
    "            self.circle(l_lat, l_long, radius=10, info=dict_info, color=s_color, alpha=0.6)\n",
    "\n",
    "\n",
    "    # Añade marcadores\n",
    "    def AddMapMarkers(self, df):\n",
    "        h = \"\"\n",
    "        h = h + \"<div id='content'>\"\n",
    "        h = h + \"<h2 id='firstHeading' class='firstHeading'>Uluru</h2>\"\n",
    "        h = h + \"<div id='bodyContent>\"\n",
    "        h = h + \"<p><b>Uluru</b></p>\"\n",
    "        h = h + \"</div></div>\"\n",
    "\n",
    "        for index, row in df.iterrows():\n",
    "            l_lat = row['Latitude']\n",
    "            l_long = row['Longitude'] \n",
    "            s_color = row['ColorCultivo']\n",
    "            if s_color == '':\n",
    "                s_color = 'white'\n",
    "            s_title = row['Etiqueta']\n",
    "           \n",
    "            dict_info = {}\n",
    "            dict_info.update({'descripcion': row['Etiqueta']})\n",
    "            dict_info.update({'tipo': row['NombreCultivo']})\n",
    "            dict_info.update({'tipo_color': row['ColorCultivo']})\n",
    "            \n",
    "            self.marker(l_lat, l_long, title=s_title, info=dict_info, color=s_color) \n",
    "\n",
    "   \n",
    "    "
   ]
  },
  {
   "cell_type": "code",
   "execution_count": 4,
   "id": "c1ef98e9-817b-4b5e-bc8d-89a70d170c11",
   "metadata": {},
   "outputs": [],
   "source": [
    "DATASET_PARCELAS = 'dataset_parcelas.pkl'\n",
    "DATASET_PUNTOS = 'dataset_puntos.pkl'\n",
    "DATASET_MARKERS = 'dataset_markers.pkl'\n",
    "\n",
    "# Función que carga el dataset de las parcelas\n",
    "def LoadDatasetParcelas():\n",
    "    df = pd.read_pickle(DATA_PATH + '/' + DATASET_PARCELAS)\n",
    "    return df\n",
    "\n",
    "# Función que carga el dataset de los puntos de interés\n",
    "def LoadDatasetPuntos():\n",
    "    df = pd.read_pickle(DATA_PATH + '/' + DATASET_PUNTOS)\n",
    "    return df\n",
    "\n",
    "# Función que carga el dataset de los markers\n",
    "def LoadDatasetMarkers():\n",
    "    df = pd.read_pickle(DATA_PATH + '/' + DATASET_MARKERS)\n",
    "    return df\n"
   ]
  },
  {
   "cell_type": "code",
   "execution_count": 5,
   "id": "0b567894",
   "metadata": {},
   "outputs": [],
   "source": [
    "# Cálculo del centro del mapa y del zoom inicial (para los ficheros de parcelas KML)\n",
    "\n",
    "def GetMapInitialSizeKML(df):\n",
    "    \n",
    "    max_lat = df['Latitude'].apply(max).max()\n",
    "    min_lat = df['Latitude'].apply(min).min()\n",
    "    max_long = df['Longitude'].apply(max).max()\n",
    "    min_long = df['Longitude'].apply(min).min()\n",
    "    \n",
    "    center_lat = min_lat + (max_lat - min_lat)/2\n",
    "    center_long = min_long + (max_long - min_long)/2\n",
    "    \n",
    "    width_lat = abs(max_lat - min_lat)\n",
    "    width_long = abs(max_long - min_long)\n",
    "    \n",
    "    zoom = np.ceil(1.3 * (1 / max(width_lat, width_long)))\n",
    "    zoom = max(zoom, 12)\n",
    "    zoom = min(zoom, 17)\n",
    "    \n",
    "    return (center_lat, center_long, zoom)\n",
    "\n"
   ]
  },
  {
   "cell_type": "code",
   "execution_count": 6,
   "id": "34071f57",
   "metadata": {},
   "outputs": [],
   "source": [
    "# Generación del mapa con los elementos de la entrada\n",
    "# Se apoya en la clase CustomGoogleMapPlotter, y a su vez en GoogleMapPlotter\n",
    "# mode: 'C' = cultivo, 'P' = Propietario\n",
    "# initial: '' = posición y zoom por defecto, '' = cálculo automático\n",
    "\n",
    "def GenerateMapComp(polygons, points=None, markers=None, mode='', initial=''):\n",
    "\n",
    "    if initial == 'auto':\n",
    "        initial_lat, initial_long, initial_zoom = GetMapInitialSizeKML(polygons)\n",
    "        print(initial_lat, initial_long, initial_zoom)\n",
    "    else:\n",
    "        initial_lat = 39.720578 \n",
    "        initial_long = -2.924675 \n",
    "        initial_zoom = 13\n",
    "    \n",
    "    s_mode = mode.lower()\n",
    "    \n",
    "    gmap = CustomGoogleMapPlotter(initial_lat, initial_long, initial_zoom, map_type='satellite')\n",
    "    \n",
    "    if polygons is not None:\n",
    "        gmap.AddMapPolygons(polygons, s_mode)    \n",
    "        \n",
    "    if points is not None:\n",
    "        gmap.AddMapPoints(points, s_mode)\n",
    "    \n",
    "    if markers is not None:\n",
    "        gmap.AddMapMarkers(markers)\n",
    "    \n",
    "    if s_mode == 'c':\n",
    "        s_mapname = 'mapa_cultivos.html'\n",
    "    elif s_mode == 'p':\n",
    "        s_mapname = 'mapa_propietarios.html'\n",
    "    else:\n",
    "        s_mapname = 'mapa.html'\n",
    "        \n",
    "    gmap.draw(MAPS_PATH + '/' + s_mapname)    \n",
    "\n",
    "    # Abrir mapa en el navegador\n",
    "    url = \"file://\" + MAPS_PATH + '/' + s_mapname\n",
    "    webbrowser.open_new_tab(url)\n"
   ]
  },
  {
   "cell_type": "code",
   "execution_count": null,
   "id": "f4c6fc2c",
   "metadata": {},
   "outputs": [],
   "source": []
  },
  {
   "cell_type": "markdown",
   "id": "77aed9bd",
   "metadata": {},
   "source": [
    "### Ejecución"
   ]
  },
  {
   "cell_type": "code",
   "execution_count": 7,
   "id": "d5ffdaa8-7b9b-40ab-8b63-53304b82f024",
   "metadata": {},
   "outputs": [],
   "source": [
    "# Carga de las parcelas\n",
    "df_parcelas = LoadDatasetParcelas()"
   ]
  },
  {
   "cell_type": "code",
   "execution_count": 8,
   "id": "1b1f2475",
   "metadata": {},
   "outputs": [],
   "source": [
    "# Carga puntos destacados\n",
    "df_puntos = LoadDatasetPuntos()"
   ]
  },
  {
   "cell_type": "code",
   "execution_count": 9,
   "id": "4ada24bc-64b8-463b-af48-07d565da977d",
   "metadata": {},
   "outputs": [],
   "source": [
    "# Carga de los marcadores\n",
    "df_markers = LoadDatasetMarkers()"
   ]
  },
  {
   "cell_type": "code",
   "execution_count": null,
   "id": "ced44e16-2b2e-44b7-b951-0da39010f1aa",
   "metadata": {},
   "outputs": [],
   "source": []
  },
  {
   "cell_type": "code",
   "execution_count": 15,
   "id": "a183b282",
   "metadata": {},
   "outputs": [
    {
     "name": "stdout",
     "output_type": "stream",
     "text": [
      "39.767443847014 -2.98602125601044 12\n"
     ]
    }
   ],
   "source": [
    "# Genera el mapa y lo abre en el navegador\n",
    "GenerateMapComp(polygons=df_parcelas, points=df_puntos, mode='c')\n"
   ]
  },
  {
   "cell_type": "code",
   "execution_count": null,
   "id": "6906ea82",
   "metadata": {},
   "outputs": [],
   "source": []
  },
  {
   "cell_type": "code",
   "execution_count": 11,
   "id": "92a56178",
   "metadata": {},
   "outputs": [],
   "source": [
    "#GenerateMapComp(df_parcelas, df_points, df_markers)\n",
    "#GenerateMapComp(polygons = df_parcelas)\n",
    "#GenerateMapComp(polygons = df_parcelas, markers=df_markers)"
   ]
  },
  {
   "cell_type": "code",
   "execution_count": 12,
   "id": "2739324e",
   "metadata": {},
   "outputs": [],
   "source": [
    "#p = df_parcelas[(df_parcelas['Ref']=='16259A037001760000ZX') & (df_parcelas['Sub'] == 'f')]\n",
    "#GenerateMapComp(polygons = p)"
   ]
  },
  {
   "cell_type": "raw",
   "id": "9c33e0d1-e457-46e1-80b8-85b292084bdd",
   "metadata": {},
   "source": [
    "df_parcelas[['Ref', 'Sub']][df_parcelas['VariedadCultivo'] == '']"
   ]
  },
  {
   "cell_type": "raw",
   "id": "cba29fdd-1c4a-478c-bf97-ac39b1e36d2e",
   "metadata": {},
   "source": [
    "df_markers"
   ]
  },
  {
   "cell_type": "raw",
   "id": "2975c63c",
   "metadata": {},
   "source": [
    "PENDIENTES\n",
    "\n",
    "EXTRA\n",
    " - Sacar información de los KML (parcela según catastro)\n",
    " - Publicar mapa/integrar en aplicación.\n",
    " - Dashboard real\n",
    " - Pasar a .py\n",
    " - Meter Rutas\n",
    " - Sacar coordenadas de cualquier punto y otras funcionalidades\n",
    " - Parámetro de entrada una lista de datasets (cuando haya más fuentes de datos)\n"
   ]
  },
  {
   "cell_type": "code",
   "execution_count": null,
   "id": "602d73d7-0233-46cb-8053-1f8f3f18ad96",
   "metadata": {},
   "outputs": [],
   "source": []
  }
 ],
 "metadata": {
  "kernelspec": {
   "display_name": "Python 3 (ipykernel)",
   "language": "python",
   "name": "python3"
  },
  "language_info": {
   "codemirror_mode": {
    "name": "ipython",
    "version": 3
   },
   "file_extension": ".py",
   "mimetype": "text/x-python",
   "name": "python",
   "nbconvert_exporter": "python",
   "pygments_lexer": "ipython3",
   "version": "3.9.0"
  }
 },
 "nbformat": 4,
 "nbformat_minor": 5
}
